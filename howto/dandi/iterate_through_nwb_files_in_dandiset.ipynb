{
 "cells": [
  {
   "cell_type": "markdown",
   "metadata": {},
   "source": [
    "This notebook shows how to iterate through the NWB files in a Dandiset and print the path, url, and neurosift links."
   ]
  },
  {
   "cell_type": "code",
   "execution_count": null,
   "metadata": {},
   "outputs": [],
   "source": [
    "import dandi.dandiarchive as da\n",
    "\n",
    "\n",
    "# Example of listing assets in a DANDI dataset\n",
    "dandiset_id = \"000363\"\n",
    "\n",
    "parsed_url = da.parse_dandi_url(f\"https://dandiarchive.org/dandiset/{dandiset_id}\")\n",
    "max_num = 200  # limit the number of assets to be listed to not overuse the DANDI API\n",
    "with parsed_url.navigate() as (client, dandiset, assets):\n",
    "    if dandiset is None:\n",
    "        raise ValueError(f\"Failed to find dandiset {dandiset_id}\")\n",
    "    asset_index = 0\n",
    "    for asset in assets:\n",
    "        path = asset.path\n",
    "        if path.endswith('.nwb'):\n",
    "            url = asset.get_content_url()\n",
    "            ns_url = f'https://neurosift.app/?p=/nwb&url={url}&dandisetId={dandiset_id}'\n",
    "            print(f'{asset_index}: {path} {url}')\n",
    "            print(f'{ns_url}')\n",
    "        asset_index += 1\n",
    "        if asset_index >= max_num:\n",
    "            print(f\"Reached the limit of {max_num} assets to list\")\n",
    "            break"
   ]
  }
 ],
 "metadata": {
  "kernelspec": {
   "display_name": "Python 3",
   "language": "python",
   "name": "python3"
  },
  "language_info": {
   "codemirror_mode": {
    "name": "ipython",
    "version": 3
   },
   "file_extension": ".py",
   "mimetype": "text/x-python",
   "name": "python",
   "nbconvert_exporter": "python",
   "pygments_lexer": "ipython3",
   "version": "3.12.1"
  }
 },
 "nbformat": 4,
 "nbformat_minor": 2
}
