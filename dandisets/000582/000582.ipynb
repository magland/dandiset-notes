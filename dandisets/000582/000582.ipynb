{
 "cells": [
  {
   "cell_type": "markdown",
   "metadata": {},
   "source": [
    "This notebook was adapted from the Pynapple docs: https://pynapple.org/generated/examples/tutorial_pynapple_dandi/\n",
    "\n",
    "It is intended to be ingested by Neurosift AI assistant.\n",
    "\n",
    "Pip requirements:\n",
    "lindi\n",
    "pynwb\n",
    "matplotlib\n",
    "pynapple"
   ]
  },
  {
   "cell_type": "code",
   "execution_count": 1,
   "metadata": {},
   "outputs": [],
   "source": [
    "import pynwb\n",
    "import lindi\n",
    "import matplotlib.pyplot as plt\n",
    "import pynapple as nap"
   ]
  },
  {
   "cell_type": "code",
   "execution_count": null,
   "metadata": {},
   "outputs": [],
   "source": [
    "# This is an example URL, adjust as needed\n",
    "# https://neurosift.app/?p=/nwb&url=https://api.dandiarchive.org/api/assets/2b9e441b-56bc-4be2-893e-0e02d22d239d/download/&dandisetId=000582&dandisetVersion=draft\n",
    "url = 'https://api.dandiarchive.org/api/assets/2b9e441b-56bc-4be2-893e-0e02d22d239d/download/'\n",
    "\n",
    "# Load the NWB file\n",
    "f = lindi.LindiH5pyFile.from_hdf5_file(url)\n",
    "io = pynwb.NWBHDF5IO(file=f, mode='r', load_namespaces=True)\n",
    "nwb = io.read()"
   ]
  },
  {
   "cell_type": "code",
   "execution_count": null,
   "metadata": {},
   "outputs": [],
   "source": [
    "# Load the NWB file with pynapple\n",
    "nwbp = nap.NWBFile(nwb)"
   ]
  },
  {
   "cell_type": "code",
   "execution_count": null,
   "metadata": {},
   "outputs": [],
   "source": [
    "# Access the units and position data\n",
    "units = nwbp[\"units\"]\n",
    "position = nwbp[\"SpatialSeriesLED1\"]  # The full path is /processing/behavior/Position/SpatialSeriesLED1, but we only use the last part\n",
    "print(f'Number of units: {len(units)}')\n",
    "print(f'Number of position samples: {len(position)}')\n",
    "print(f'Number of position dimensions: {position.shape[1]}')"
   ]
  },
  {
   "cell_type": "markdown",
   "metadata": {},
   "source": [
    "Notes to AI assistant:\n",
    "\n",
    "If the number of spatial dimensions is greater than 2, then you cannot use the compute_2d_tuning_curve function. If the user is requesting to use it in this situation, you should reply that it is not possible unless they want to restrict to two of the dimensions. But this should not be determined programmatically in the script, because you should know the number of spatial dimensions from the shape of the data in the NWB file.\n",
    "\n",
    "If the number of spatial dimensions is 1, then you should use the compute_1d_tuning_curve function instead, and of course the plots would be 1D graphs rather than images."
   ]
  },
  {
   "cell_type": "code",
   "execution_count": null,
   "metadata": {},
   "outputs": [],
   "source": [
    "# Compute 2D tuning curves\n",
    "tc, binsxy = nap.compute_2d_tuning_curves(group=units, features=position, nb_bins=20)"
   ]
  },
  {
   "cell_type": "code",
   "execution_count": 17,
   "metadata": {},
   "outputs": [],
   "source": [
    "# Styles for plotting\n",
    "import seaborn as sns\n",
    "custom_params = {\"axes.spines.right\": False, \"axes.spines.top\": False}\n",
    "sns.set_theme(style=\"ticks\", palette=\"colorblind\", font_scale=1.5, rc=custom_params)"
   ]
  },
  {
   "cell_type": "markdown",
   "metadata": {},
   "source": [
    "Notes to AI assistant:\n",
    "\n",
    "The number of rows and columns in the below figure should be adjusted according to the number of units. And if the number of units is very large, then the entire analysis should be restricted to a manageable subset of units."
   ]
  },
  {
   "cell_type": "code",
   "execution_count": null,
   "metadata": {},
   "outputs": [],
   "source": [
    "# Plot 2D tuning curves\n",
    "plt.figure(figsize=(15, 7))\n",
    "for i in tc.keys():\n",
    "    plt.subplot(2, 4, i + 1)\n",
    "    plt.imshow(tc[i], origin=\"lower\", aspect=\"auto\")\n",
    "    plt.title(\"Unit {}\".format(i))\n",
    "plt.tight_layout()\n",
    "plt.show()"
   ]
  }
 ],
 "metadata": {
  "kernelspec": {
   "display_name": "Python 3",
   "language": "python",
   "name": "python3"
  },
  "language_info": {
   "codemirror_mode": {
    "name": "ipython",
    "version": 3
   },
   "file_extension": ".py",
   "mimetype": "text/x-python",
   "name": "python",
   "nbconvert_exporter": "python",
   "pygments_lexer": "ipython3",
   "version": "3.12.1"
  }
 },
 "nbformat": 4,
 "nbformat_minor": 2
}
